{
 "cells": [
  {
   "cell_type": "code",
   "execution_count": 1,
   "metadata": {},
   "outputs": [
    {
     "name": "stdout",
     "output_type": "stream",
     "text": [
      "Requirement already satisfied: requests in /Users/admin/anaconda3/lib/python3.6/site-packages\r\n",
      "Requirement already satisfied: chardet<3.1.0,>=3.0.2 in /Users/admin/anaconda3/lib/python3.6/site-packages (from requests)\r\n",
      "Requirement already satisfied: idna<2.7,>=2.5 in /Users/admin/anaconda3/lib/python3.6/site-packages (from requests)\r\n",
      "Requirement already satisfied: urllib3<1.23,>=1.21.1 in /Users/admin/anaconda3/lib/python3.6/site-packages (from requests)\r\n",
      "Requirement already satisfied: certifi>=2017.4.17 in /Users/admin/anaconda3/lib/python3.6/site-packages (from requests)\r\n",
      "\u001b[33mYou are using pip version 9.0.3, however version 19.1 is available.\r\n",
      "You should consider upgrading via the 'pip install --upgrade pip' command.\u001b[0m\r\n"
     ]
    }
   ],
   "source": [
    "!pip install requests"
   ]
  },
  {
   "cell_type": "code",
   "execution_count": 2,
   "metadata": {},
   "outputs": [
    {
     "name": "stdout",
     "output_type": "stream",
     "text": [
      "Requirement already satisfied: beautifulsoup4 in /Users/admin/anaconda3/lib/python3.6/site-packages\r\n",
      "\u001b[33mYou are using pip version 9.0.3, however version 19.1 is available.\r\n",
      "You should consider upgrading via the 'pip install --upgrade pip' command.\u001b[0m\r\n"
     ]
    }
   ],
   "source": [
    "!pip install beautifulsoup4"
   ]
  },
  {
   "cell_type": "code",
   "execution_count": 270,
   "metadata": {},
   "outputs": [],
   "source": [
    "import requests\n",
    "import bs4\n"
   ]
  },
  {
   "cell_type": "code",
   "execution_count": 271,
   "metadata": {},
   "outputs": [],
   "source": [
    "data = requests.get('https://rbc.ru/')\n",
    "dom = bs4.BeautifulSoup(data.text,'html.parser')"
   ]
  },
  {
   "cell_type": "code",
   "execution_count": 272,
   "metadata": {},
   "outputs": [],
   "source": [
    "news=[]\n",
    "news.append([])"
   ]
  },
  {
   "cell_type": "code",
   "execution_count": 273,
   "metadata": {},
   "outputs": [],
   "source": [
    "main=dom.find(class_='main__big js-main-reload-item')\n",
    "news[-1].append(main.find(class_='main__big__link').attrs['data-vr-contentbox-url'])\n",
    "news[-1].append(main.find(class_='main__big__title').text)\n",
    "news[-1].append(main.attrs['data-modif-date'])\n"
   ]
  },
  {
   "cell_type": "code",
   "execution_count": 274,
   "metadata": {},
   "outputs": [],
   "source": [
    "li=dom.find(class_='main__list').find_all(class_='main__feed js-main-reload-item')\n",
    "for i in li:\n",
    "    news.append([])\n",
    "    news[-1].append(i.find(class_='main__feed__link').attrs['data-vr-contentbox-url'])\n",
    "    news[-1].append(i.find(class_='main__feed__title').text)\n",
    "    news[-1].append(i.attrs['data-modif-date'])"
   ]
  },
  {
   "cell_type": "code",
   "execution_count": 275,
   "metadata": {},
   "outputs": [
    {
     "name": "stdout",
     "output_type": "stream",
     "text": [
      "['https://www.rbc.ru/politics/30/04/2019/5cc8589f9a7947281f9be849', 'В Кремле рассматривают сенатора Мезенцева на пост посла в Белоруссии', 'Tue, 30 Apr 2019 18:12:33 +0300']\n",
      "\n",
      "\n",
      "\n",
      "\n",
      "\n",
      "['https://www.rbc.ru/finances/30/04/2019/5cc860949a79472b1d830461', 'ЦБ уличил офшоры в манипуляциях с акциями для пенсионных инвестиций', 'Tue, 30 Apr 2019 19:22:01 +0300']\n",
      "\n",
      "\n",
      "\n",
      "\n",
      "\n",
      "['https://www.rbc.ru/economics/30/04/2019/5cc865279a79472f2f061c42', 'ФАС заявила о «сращивании монополий с государством»', 'Tue, 30 Apr 2019 19:24:05 +0300']\n",
      "\n",
      "\n",
      "\n",
      "\n",
      "\n",
      "['https://www.rbc.ru/society/30/04/2019/5cc85e629a79472b1d83045c', 'Первый замглавы ФСБ почти догнал по доходу супругу главы ФСО', 'Tue, 30 Apr 2019 19:33:27 +0300']\n",
      "\n",
      "\n",
      "\n",
      "\n",
      "\n",
      "['https://www.rbc.ru/society/30/04/2019/5cc861b89a79472e18863873', 'Владелец прав на шоу «Голос» сообщил о консультациях с «Первым каналом»', 'Tue, 30 Apr 2019 18:33:46 +0300']\n",
      "\n",
      "\n",
      "\n",
      "\n",
      "\n",
      "['https://www.rbc.ru/politics/30/04/2019/5cc8692b9a79473104a850e8', 'Reuters узнал о перестрелке сторонников Гуаидо с верными Мадуро военными', 'Tue, 30 Apr 2019 19:01:38 +0300']\n",
      "\n",
      "\n",
      "\n",
      "\n",
      "\n",
      "['https://www.rbc.ru/society/30/04/2019/5cc858929a7947287c2ccf5e', 'Начальник управления Генпрокуратуры заработал в два раза больше Чайки', 'Tue, 30 Apr 2019 19:10:47 +0300']\n",
      "\n",
      "\n",
      "\n",
      "\n",
      "\n",
      "['https://www.rbc.ru/technology_and_media/30/04/2019/5cc858249a794727d74d8b76', '«Яндекс» подготовил к выходу на рынок две новые версии «умной» колонки', 'Tue, 30 Apr 2019 19:18:05 +0300']\n",
      "\n",
      "\n",
      "\n",
      "\n",
      "\n",
      "['https://www.rbc.ru/business/30/04/2019/5cc84cc49a794722054b2d47', 'Путин после истории с «Дружбой» раскритиковал контроль за качеством нефти', 'Tue, 30 Apr 2019 17:58:24 +0300']\n",
      "\n",
      "\n",
      "\n",
      "\n",
      "\n",
      "['https://www.rbc.ru/society/30/04/2019/5cc84e289a794724097a85f7', 'Минпромторг показал первые фотографии внедорожника Aurus', 'Tue, 30 Apr 2019 17:54:52 +0300']\n",
      "\n",
      "\n",
      "\n",
      "\n",
      "\n",
      "['https://www.rbc.ru/society/30/04/2019/5cc8227e9a79470daca58e6b', 'Армия Индии объявила об обнаружении следов снежного человека', 'Tue, 30 Apr 2019 15:19:43 +0300']\n",
      "\n",
      "\n",
      "\n",
      "\n",
      "\n",
      "['https://www.rbc.ru/society/30/04/2019/5cc8471a9a794721092cb90c', 'В аэропорту Киева показали видео с картой Украины без Крыма', 'Tue, 30 Apr 2019 16:32:02 +0300']\n",
      "\n",
      "\n",
      "\n",
      "\n",
      "\n",
      "['https://www.rbc.ru/rbcfreenews/5cc84ccc9a794723819af258', 'Суд на три месяца закрыл театр «У Никитских ворот»', 'Tue, 30 Apr 2019 18:13:18 +0300']\n",
      "\n",
      "\n",
      "\n",
      "\n",
      "\n",
      "['https://www.rbc.ru/society/30/04/2019/5cc80abb9a7947ff724cd961', 'Глава «Мираторга» назвал балаболами противников запрета на ввоз хамона', 'Tue, 30 Apr 2019 12:27:00 +0300']\n",
      "\n",
      "\n",
      "\n",
      "\n",
      "\n",
      "['https://sport.rbc.ru/news/5cc86fe99a79473404a9f759', 'ВТБ купил контрольный пакет ФК «Динамо» за 1 руб.', 'Tue, 30 Apr 2019 19:01:59 +0300']\n",
      "\n",
      "\n",
      "\n",
      "\n",
      "\n"
     ]
    }
   ],
   "source": [
    "for i in news:\n",
    "    print (i)\n",
    "    print('\\n\\n\\n\\n')"
   ]
  },
  {
   "cell_type": "code",
   "execution_count": null,
   "metadata": {},
   "outputs": [],
   "source": []
  }
 ],
 "metadata": {
  "kernelspec": {
   "display_name": "Python 3",
   "language": "python",
   "name": "python3"
  },
  "language_info": {
   "codemirror_mode": {
    "name": "ipython",
    "version": 3
   },
   "file_extension": ".py",
   "mimetype": "text/x-python",
   "name": "python",
   "nbconvert_exporter": "python",
   "pygments_lexer": "ipython3",
   "version": "3.6.2"
  }
 },
 "nbformat": 4,
 "nbformat_minor": 2
}
